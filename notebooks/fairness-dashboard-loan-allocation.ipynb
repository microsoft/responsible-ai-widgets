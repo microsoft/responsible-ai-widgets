{
 "cells": [
  {
   "cell_type": "markdown",
   "metadata": {},
   "source": [
    "# Using Fairness Dashboard with Loan Allocation Data\n",
    "\n",
    "This notebook shows how to use [`Fairlearn`](https://fairlearn.github.io/) and the Responsible AI Widget's Fairness dashboard to generate predictors for the Census dataset. This dataset is a classification problem - given a range of data about 32,000 individuals, predict whether their annual income is above or below fifty thousand dollars per year.\n",
    "\n",
    "For the purposes of this notebook, we shall treat this as a loan decision problem. We will pretend that the label indicates whether or not each individual repaid a loan in the past. We will use the data to train a predictor to predict whether previously unseen individuals will repay a loan or not. The assumption is that the model predictions are used to decide whether an individual should be offered a loan.\n",
    "\n",
    "We will first train a fairness-unaware predictor and use the fairness dashboard to demonstrate how this model leads to unfair decisions (under a specific notion of fairness called *demographic parity*). We then mitigate unfairness by applying the `GridSearch` algorithm from `Fairlearn` package."
   ]
  },
  {
   "cell_type": "markdown",
   "metadata": {},
   "source": [
    "## Install Required Packages"
   ]
  },
  {
   "cell_type": "code",
   "execution_count": 3,
   "metadata": {
    "tags": []
   },
   "outputs": [
    {
     "output_type": "stream",
     "name": "stdout",
     "text": [
      "Obtaining file:///mnt/c/Users/t-alexquach/Music/responsible-ai-widgets/raiwidgets\n",
      "Requirement already satisfied: erroranalysis>=0.1.8 in /home/alex/.local/share/virtualenvs/responsible-ai-widgets-ySgAgbNB/lib/python3.8/site-packages (from raiwidgets==0.0.0) (0.1.8)\n",
      "Requirement already satisfied: ipython==7.16.1 in /home/alex/.local/share/virtualenvs/responsible-ai-widgets-ySgAgbNB/lib/python3.8/site-packages (from raiwidgets==0.0.0) (7.16.1)\n",
      "Requirement already satisfied: jinja2==2.11.3 in /home/alex/.local/share/virtualenvs/responsible-ai-widgets-ySgAgbNB/lib/python3.8/site-packages (from raiwidgets==0.0.0) (2.11.3)\n",
      "Requirement already satisfied: lightgbm>=2.0.11 in /home/alex/.local/share/virtualenvs/responsible-ai-widgets-ySgAgbNB/lib/python3.8/site-packages (from raiwidgets==0.0.0) (3.2.1)\n",
      "Requirement already satisfied: numpy>=1.17.2 in /home/alex/.local/share/virtualenvs/responsible-ai-widgets-ySgAgbNB/lib/python3.8/site-packages (from raiwidgets==0.0.0) (1.20.3)\n",
      "Requirement already satisfied: pandas>=0.25.1 in /home/alex/.local/share/virtualenvs/responsible-ai-widgets-ySgAgbNB/lib/python3.8/site-packages (from raiwidgets==0.0.0) (1.2.4)\n",
      "Requirement already satisfied: rai-core-flask==0.2.2 in /home/alex/.local/share/virtualenvs/responsible-ai-widgets-ySgAgbNB/lib/python3.8/site-packages (from raiwidgets==0.0.0) (0.2.2)\n",
      "Requirement already satisfied: responsibleai==0.0.0 in /mnt/c/Users/t-alexquach/Music/responsible-ai-widgets/responsibleai (from raiwidgets==0.0.0) (0.0.0)\n",
      "Requirement already satisfied: scikit-learn>=0.22.1 in /home/alex/.local/share/virtualenvs/responsible-ai-widgets-ySgAgbNB/lib/python3.8/site-packages (from raiwidgets==0.0.0) (0.24.2)\n",
      "Requirement already satisfied: scipy>=1.4.1 in /home/alex/.local/share/virtualenvs/responsible-ai-widgets-ySgAgbNB/lib/python3.8/site-packages (from raiwidgets==0.0.0) (1.6.3)\n",
      "Requirement already satisfied: pygments in /home/alex/.local/share/virtualenvs/responsible-ai-widgets-ySgAgbNB/lib/python3.8/site-packages (from ipython==7.16.1->raiwidgets==0.0.0) (2.9.0)\n",
      "Requirement already satisfied: prompt-toolkit!=3.0.0,!=3.0.1,<3.1.0,>=2.0.0 in /home/alex/.local/share/virtualenvs/responsible-ai-widgets-ySgAgbNB/lib/python3.8/site-packages (from ipython==7.16.1->raiwidgets==0.0.0) (3.0.18)\n",
      "Requirement already satisfied: setuptools>=18.5 in /home/alex/.local/share/virtualenvs/responsible-ai-widgets-ySgAgbNB/lib/python3.8/site-packages (from ipython==7.16.1->raiwidgets==0.0.0) (44.0.0)\n",
      "Requirement already satisfied: backcall in /home/alex/.local/share/virtualenvs/responsible-ai-widgets-ySgAgbNB/lib/python3.8/site-packages (from ipython==7.16.1->raiwidgets==0.0.0) (0.2.0)\n",
      "Requirement already satisfied: traitlets>=4.2 in /home/alex/.local/share/virtualenvs/responsible-ai-widgets-ySgAgbNB/lib/python3.8/site-packages (from ipython==7.16.1->raiwidgets==0.0.0) (5.0.5)\n",
      "Requirement already satisfied: pexpect in /home/alex/.local/share/virtualenvs/responsible-ai-widgets-ySgAgbNB/lib/python3.8/site-packages (from ipython==7.16.1->raiwidgets==0.0.0) (4.8.0)\n",
      "Requirement already satisfied: pickleshare in /home/alex/.local/share/virtualenvs/responsible-ai-widgets-ySgAgbNB/lib/python3.8/site-packages (from ipython==7.16.1->raiwidgets==0.0.0) (0.7.5)\n",
      "Requirement already satisfied: jedi>=0.10 in /home/alex/.local/share/virtualenvs/responsible-ai-widgets-ySgAgbNB/lib/python3.8/site-packages (from ipython==7.16.1->raiwidgets==0.0.0) (0.18.0)\n",
      "Requirement already satisfied: decorator in /home/alex/.local/share/virtualenvs/responsible-ai-widgets-ySgAgbNB/lib/python3.8/site-packages (from ipython==7.16.1->raiwidgets==0.0.0) (4.4.2)\n",
      "Requirement already satisfied: MarkupSafe>=0.23 in /home/alex/.local/share/virtualenvs/responsible-ai-widgets-ySgAgbNB/lib/python3.8/site-packages (from jinja2==2.11.3->raiwidgets==0.0.0) (2.0.1)\n",
      "Requirement already satisfied: Flask==1.1.2 in /home/alex/.local/share/virtualenvs/responsible-ai-widgets-ySgAgbNB/lib/python3.8/site-packages (from rai-core-flask==0.2.2->raiwidgets==0.0.0) (1.1.2)\n",
      "Requirement already satisfied: gevent==20.9.0 in /home/alex/.local/share/virtualenvs/responsible-ai-widgets-ySgAgbNB/lib/python3.8/site-packages (from rai-core-flask==0.2.2->raiwidgets==0.0.0) (20.9.0)\n",
      "Requirement already satisfied: Flask-Cors==3.0.9 in /home/alex/.local/share/virtualenvs/responsible-ai-widgets-ySgAgbNB/lib/python3.8/site-packages (from rai-core-flask==0.2.2->raiwidgets==0.0.0) (3.0.9)\n",
      "Requirement already satisfied: greenlet==0.4.17 in /home/alex/.local/share/virtualenvs/responsible-ai-widgets-ySgAgbNB/lib/python3.8/site-packages (from rai-core-flask==0.2.2->raiwidgets==0.0.0) (0.4.17)\n",
      "Requirement already satisfied: itsdangerous>=0.24 in /home/alex/.local/share/virtualenvs/responsible-ai-widgets-ySgAgbNB/lib/python3.8/site-packages (from Flask==1.1.2->rai-core-flask==0.2.2->raiwidgets==0.0.0) (2.0.1)\n",
      "Requirement already satisfied: Werkzeug>=0.15 in /home/alex/.local/share/virtualenvs/responsible-ai-widgets-ySgAgbNB/lib/python3.8/site-packages (from Flask==1.1.2->rai-core-flask==0.2.2->raiwidgets==0.0.0) (2.0.1)\n",
      "Requirement already satisfied: click>=5.1 in /home/alex/.local/share/virtualenvs/responsible-ai-widgets-ySgAgbNB/lib/python3.8/site-packages (from Flask==1.1.2->rai-core-flask==0.2.2->raiwidgets==0.0.0) (8.0.1)\n",
      "Requirement already satisfied: Six in /home/alex/.local/share/virtualenvs/responsible-ai-widgets-ySgAgbNB/lib/python3.8/site-packages (from Flask-Cors==3.0.9->rai-core-flask==0.2.2->raiwidgets==0.0.0) (1.16.0)\n",
      "Requirement already satisfied: zope.event in /home/alex/.local/share/virtualenvs/responsible-ai-widgets-ySgAgbNB/lib/python3.8/site-packages (from gevent==20.9.0->rai-core-flask==0.2.2->raiwidgets==0.0.0) (4.5.0)\n",
      "Requirement already satisfied: zope.interface in /home/alex/.local/share/virtualenvs/responsible-ai-widgets-ySgAgbNB/lib/python3.8/site-packages (from gevent==20.9.0->rai-core-flask==0.2.2->raiwidgets==0.0.0) (5.4.0)\n",
      "Requirement already satisfied: dice-ml<0.7,>=0.6.1 in /home/alex/.local/share/virtualenvs/responsible-ai-widgets-ySgAgbNB/lib/python3.8/site-packages (from responsibleai==0.0.0->raiwidgets==0.0.0) (0.6.1)\n",
      "Requirement already satisfied: econml>=0.12.0b2 in /home/alex/.local/share/virtualenvs/responsible-ai-widgets-ySgAgbNB/lib/python3.8/site-packages (from responsibleai==0.0.0->raiwidgets==0.0.0) (0.12.0b2)\n",
      "Requirement already satisfied: interpret-community>=0.18.1 in /home/alex/.local/share/virtualenvs/responsible-ai-widgets-ySgAgbNB/lib/python3.8/site-packages (from responsibleai==0.0.0->raiwidgets==0.0.0) (0.18.1)\n",
      "Requirement already satisfied: h5py in /home/alex/.local/share/virtualenvs/responsible-ai-widgets-ySgAgbNB/lib/python3.8/site-packages (from dice-ml<0.7,>=0.6.1->responsibleai==0.0.0->raiwidgets==0.0.0) (3.2.1)\n",
      "Requirement already satisfied: tqdm in /home/alex/.local/share/virtualenvs/responsible-ai-widgets-ySgAgbNB/lib/python3.8/site-packages (from dice-ml<0.7,>=0.6.1->responsibleai==0.0.0->raiwidgets==0.0.0) (4.61.0)\n",
      "Requirement already satisfied: statsmodels>=0.10 in /home/alex/.local/share/virtualenvs/responsible-ai-widgets-ySgAgbNB/lib/python3.8/site-packages (from econml>=0.12.0b2->responsibleai==0.0.0->raiwidgets==0.0.0) (0.12.2)\n",
      "Requirement already satisfied: shap~=0.38.1 in /home/alex/.local/share/virtualenvs/responsible-ai-widgets-ySgAgbNB/lib/python3.8/site-packages (from econml>=0.12.0b2->responsibleai==0.0.0->raiwidgets==0.0.0) (0.38.1)\n",
      "Requirement already satisfied: dowhy in /home/alex/.local/share/virtualenvs/responsible-ai-widgets-ySgAgbNB/lib/python3.8/site-packages (from econml>=0.12.0b2->responsibleai==0.0.0->raiwidgets==0.0.0) (0.6)\n",
      "Requirement already satisfied: numba!=0.42.1 in /home/alex/.local/share/virtualenvs/responsible-ai-widgets-ySgAgbNB/lib/python3.8/site-packages (from econml>=0.12.0b2->responsibleai==0.0.0->raiwidgets==0.0.0) (0.53.1)\n",
      "Requirement already satisfied: sparse in /home/alex/.local/share/virtualenvs/responsible-ai-widgets-ySgAgbNB/lib/python3.8/site-packages (from econml>=0.12.0b2->responsibleai==0.0.0->raiwidgets==0.0.0) (0.12.0)\n",
      "Requirement already satisfied: graphviz in /home/alex/.local/share/virtualenvs/responsible-ai-widgets-ySgAgbNB/lib/python3.8/site-packages (from econml>=0.12.0b2->responsibleai==0.0.0->raiwidgets==0.0.0) (0.16)\n",
      "Requirement already satisfied: joblib>=0.13.0 in /home/alex/.local/share/virtualenvs/responsible-ai-widgets-ySgAgbNB/lib/python3.8/site-packages (from econml>=0.12.0b2->responsibleai==0.0.0->raiwidgets==0.0.0) (1.0.1)\n",
      "Requirement already satisfied: interpret-core[required]<=0.2.4,>=0.1.20 in /home/alex/.local/share/virtualenvs/responsible-ai-widgets-ySgAgbNB/lib/python3.8/site-packages (from interpret-community>=0.18.1->responsibleai==0.0.0->raiwidgets==0.0.0) (0.2.4)\n",
      "Requirement already satisfied: packaging in /home/alex/.local/share/virtualenvs/responsible-ai-widgets-ySgAgbNB/lib/python3.8/site-packages (from interpret-community>=0.18.1->responsibleai==0.0.0->raiwidgets==0.0.0) (20.9)\n",
      "Requirement already satisfied: parso<0.9.0,>=0.8.0 in /home/alex/.local/share/virtualenvs/responsible-ai-widgets-ySgAgbNB/lib/python3.8/site-packages (from jedi>=0.10->ipython==7.16.1->raiwidgets==0.0.0) (0.8.2)\n",
      "Requirement already satisfied: wheel in /home/alex/.local/share/virtualenvs/responsible-ai-widgets-ySgAgbNB/lib/python3.8/site-packages (from lightgbm>=2.0.11->raiwidgets==0.0.0) (0.36.2)\n",
      "Requirement already satisfied: llvmlite<0.37,>=0.36.0rc1 in /home/alex/.local/share/virtualenvs/responsible-ai-widgets-ySgAgbNB/lib/python3.8/site-packages (from numba!=0.42.1->econml>=0.12.0b2->responsibleai==0.0.0->raiwidgets==0.0.0) (0.36.0)\n",
      "Requirement already satisfied: python-dateutil>=2.7.3 in /home/alex/.local/share/virtualenvs/responsible-ai-widgets-ySgAgbNB/lib/python3.8/site-packages (from pandas>=0.25.1->raiwidgets==0.0.0) (2.8.1)\n",
      "Requirement already satisfied: pytz>=2017.3 in /home/alex/.local/share/virtualenvs/responsible-ai-widgets-ySgAgbNB/lib/python3.8/site-packages (from pandas>=0.25.1->raiwidgets==0.0.0) (2021.1)\n",
      "Requirement already satisfied: wcwidth in /home/alex/.local/share/virtualenvs/responsible-ai-widgets-ySgAgbNB/lib/python3.8/site-packages (from prompt-toolkit!=3.0.0,!=3.0.1,<3.1.0,>=2.0.0->ipython==7.16.1->raiwidgets==0.0.0) (0.2.5)\n",
      "Requirement already satisfied: threadpoolctl>=2.0.0 in /home/alex/.local/share/virtualenvs/responsible-ai-widgets-ySgAgbNB/lib/python3.8/site-packages (from scikit-learn>=0.22.1->raiwidgets==0.0.0) (2.1.0)\n",
      "Requirement already satisfied: cloudpickle in /home/alex/.local/share/virtualenvs/responsible-ai-widgets-ySgAgbNB/lib/python3.8/site-packages (from shap~=0.38.1->econml>=0.12.0b2->responsibleai==0.0.0->raiwidgets==0.0.0) (1.6.0)\n",
      "Requirement already satisfied: slicer==0.0.7 in /home/alex/.local/share/virtualenvs/responsible-ai-widgets-ySgAgbNB/lib/python3.8/site-packages (from shap~=0.38.1->econml>=0.12.0b2->responsibleai==0.0.0->raiwidgets==0.0.0) (0.0.7)\n",
      "Requirement already satisfied: patsy>=0.5 in /home/alex/.local/share/virtualenvs/responsible-ai-widgets-ySgAgbNB/lib/python3.8/site-packages (from statsmodels>=0.10->econml>=0.12.0b2->responsibleai==0.0.0->raiwidgets==0.0.0) (0.5.1)\n",
      "Requirement already satisfied: ipython-genutils in /home/alex/.local/share/virtualenvs/responsible-ai-widgets-ySgAgbNB/lib/python3.8/site-packages (from traitlets>=4.2->ipython==7.16.1->raiwidgets==0.0.0) (0.2.0)\n",
      "Requirement already satisfied: sympy>=1.4 in /home/alex/.local/share/virtualenvs/responsible-ai-widgets-ySgAgbNB/lib/python3.8/site-packages (from dowhy->econml>=0.12.0b2->responsibleai==0.0.0->raiwidgets==0.0.0) (1.8)\n",
      "Requirement already satisfied: pydot>=1.4 in /home/alex/.local/share/virtualenvs/responsible-ai-widgets-ySgAgbNB/lib/python3.8/site-packages (from dowhy->econml>=0.12.0b2->responsibleai==0.0.0->raiwidgets==0.0.0) (1.4.2)\n",
      "Requirement already satisfied: networkx>=2.0 in /home/alex/.local/share/virtualenvs/responsible-ai-widgets-ySgAgbNB/lib/python3.8/site-packages (from dowhy->econml>=0.12.0b2->responsibleai==0.0.0->raiwidgets==0.0.0) (2.5.1)\n",
      "Requirement already satisfied: pyparsing>=2.1.4 in /home/alex/.local/share/virtualenvs/responsible-ai-widgets-ySgAgbNB/lib/python3.8/site-packages (from pydot>=1.4->dowhy->econml>=0.12.0b2->responsibleai==0.0.0->raiwidgets==0.0.0) (2.4.7)\n",
      "Requirement already satisfied: mpmath>=0.19 in /home/alex/.local/share/virtualenvs/responsible-ai-widgets-ySgAgbNB/lib/python3.8/site-packages (from sympy>=1.4->dowhy->econml>=0.12.0b2->responsibleai==0.0.0->raiwidgets==0.0.0) (1.2.1)\n",
      "Requirement already satisfied: ptyprocess>=0.5 in /home/alex/.local/share/virtualenvs/responsible-ai-widgets-ySgAgbNB/lib/python3.8/site-packages (from pexpect->ipython==7.16.1->raiwidgets==0.0.0) (0.7.0)\n",
      "Installing collected packages: raiwidgets\n",
      "  Running setup.py develop for raiwidgets\n",
      "Successfully installed raiwidgets-0.0.0\n",
      "Note: you may need to restart the kernel to use updated packages.\n"
     ]
    }
   ],
   "source": [
    "# %pip install --upgrade fairlearn\n",
    "# %pip install --upgrade raiwidgets\n",
    "\n",
    "# %pip install -e \"/mnt/c/Users/t-alexquach/Desktop/fairlearn\"\n",
    "# %pip install raiwidgets\n",
    "\n",
    "# %pip install -e \"/mnt/c/Users/t-alexquach/Music/fairlearn\"\n",
    "%pip install -e \"/mnt/c/Users/t-alexquach/Music/responsible-ai-widgets/raiwidgets\"\n",
    "# %pip install -e \"/mnt/c/Users/t-alexquach/Music/responsible-ai-widgets/responsibleai\""
   ]
  },
  {
   "cell_type": "markdown",
   "metadata": {},
   "source": [
    "## Load and preprocess the data set\n",
    "\n",
    "For simplicity, we import the data set from the `shap` package, which contains the data in a cleaned format. We start by importing the various modules we're going to use:"
   ]
  },
  {
   "cell_type": "code",
   "execution_count": 1,
   "metadata": {},
   "outputs": [
    {
     "output_type": "error",
     "ename": "ModuleNotFoundError",
     "evalue": "No module named 'raiwidgets._input_processing'",
     "traceback": [
      "\u001b[0;31m---------------------------------------------------------------------------\u001b[0m",
      "\u001b[0;31mModuleNotFoundError\u001b[0m                       Traceback (most recent call last)",
      "\u001b[0;32m<ipython-input-1-4fb43de8d723>\u001b[0m in \u001b[0;36m<module>\u001b[0;34m\u001b[0m\n\u001b[0;32m----> 1\u001b[0;31m \u001b[0;32mfrom\u001b[0m \u001b[0mraiwidgets\u001b[0m \u001b[0;32mimport\u001b[0m \u001b[0mFairnessDashboard\u001b[0m\u001b[0;34m\u001b[0m\u001b[0;34m\u001b[0m\u001b[0m\n\u001b[0m\u001b[1;32m      2\u001b[0m \u001b[0;34m\u001b[0m\u001b[0m\n\u001b[1;32m      3\u001b[0m \u001b[0;32mfrom\u001b[0m \u001b[0mfairlearn\u001b[0m\u001b[0;34m.\u001b[0m\u001b[0mreductions\u001b[0m \u001b[0;32mimport\u001b[0m \u001b[0mGridSearch\u001b[0m\u001b[0;34m\u001b[0m\u001b[0;34m\u001b[0m\u001b[0m\n\u001b[1;32m      4\u001b[0m \u001b[0;32mfrom\u001b[0m \u001b[0mfairlearn\u001b[0m\u001b[0;34m.\u001b[0m\u001b[0mreductions\u001b[0m \u001b[0;32mimport\u001b[0m \u001b[0mDemographicParity\u001b[0m\u001b[0;34m\u001b[0m\u001b[0;34m\u001b[0m\u001b[0m\n\u001b[1;32m      5\u001b[0m \u001b[0;32mfrom\u001b[0m \u001b[0mfairlearn\u001b[0m\u001b[0;34m.\u001b[0m\u001b[0mmetrics\u001b[0m \u001b[0;32mimport\u001b[0m \u001b[0mMetricFrame\u001b[0m\u001b[0;34m,\u001b[0m \u001b[0mselection_rate\u001b[0m\u001b[0;34m\u001b[0m\u001b[0;34m\u001b[0m\u001b[0m\n",
      "\u001b[0;32m/mnt/c/Users/t-alexquach/Music/responsible-ai-widgets/raiwidgets/raiwidgets/__init__.py\u001b[0m in \u001b[0;36m<module>\u001b[0;34m\u001b[0m\n\u001b[1;32m      4\u001b[0m \u001b[0;34m\"\"\"Package for the fairness, explanation, and error analysis widgets.\"\"\"\u001b[0m\u001b[0;34m\u001b[0m\u001b[0;34m\u001b[0m\u001b[0m\n\u001b[1;32m      5\u001b[0m \u001b[0;34m\u001b[0m\u001b[0m\n\u001b[0;32m----> 6\u001b[0;31m \u001b[0;32mfrom\u001b[0m \u001b[0;34m.\u001b[0m\u001b[0mfairness_dashboard\u001b[0m \u001b[0;32mimport\u001b[0m \u001b[0mFairnessDashboard\u001b[0m\u001b[0;34m\u001b[0m\u001b[0;34m\u001b[0m\u001b[0m\n\u001b[0m\u001b[1;32m      7\u001b[0m \u001b[0;32mfrom\u001b[0m \u001b[0;34m.\u001b[0m\u001b[0mexplanation_dashboard\u001b[0m \u001b[0;32mimport\u001b[0m \u001b[0mExplanationDashboard\u001b[0m\u001b[0;34m\u001b[0m\u001b[0;34m\u001b[0m\u001b[0m\n\u001b[1;32m      8\u001b[0m \u001b[0;32mfrom\u001b[0m \u001b[0;34m.\u001b[0m\u001b[0merror_analysis_dashboard\u001b[0m \u001b[0;32mimport\u001b[0m \u001b[0mErrorAnalysisDashboard\u001b[0m\u001b[0;34m\u001b[0m\u001b[0;34m\u001b[0m\u001b[0m\n",
      "\u001b[0;32m/mnt/c/Users/t-alexquach/Music/responsible-ai-widgets/raiwidgets/raiwidgets/fairness_dashboard.py\u001b[0m in \u001b[0;36m<module>\u001b[0;34m\u001b[0m\n\u001b[1;32m      6\u001b[0m \u001b[0;32mfrom\u001b[0m \u001b[0;34m.\u001b[0m\u001b[0mdashboard\u001b[0m \u001b[0;32mimport\u001b[0m \u001b[0mDashboard\u001b[0m\u001b[0;34m\u001b[0m\u001b[0;34m\u001b[0m\u001b[0m\n\u001b[1;32m      7\u001b[0m \u001b[0;32mfrom\u001b[0m \u001b[0;34m.\u001b[0m\u001b[0mfairness_metric_calculation\u001b[0m \u001b[0;32mimport\u001b[0m \u001b[0mFairnessMetricModule\u001b[0m\u001b[0;34m\u001b[0m\u001b[0;34m\u001b[0m\u001b[0m\n\u001b[0;32m----> 8\u001b[0;31m \u001b[0;32mfrom\u001b[0m \u001b[0;34m.\u001b[0m\u001b[0m_input_processing\u001b[0m \u001b[0;32mimport\u001b[0m \u001b[0m_convert_to_string_list_dict\u001b[0m\u001b[0;34m,\u001b[0m \u001b[0m_convert_to_list\u001b[0m\u001b[0;34m\u001b[0m\u001b[0;34m\u001b[0m\u001b[0m\n\u001b[0m\u001b[1;32m      9\u001b[0m \u001b[0;34m\u001b[0m\u001b[0m\n\u001b[1;32m     10\u001b[0m \u001b[0;32mfrom\u001b[0m \u001b[0mflask\u001b[0m \u001b[0;32mimport\u001b[0m \u001b[0mjsonify\u001b[0m\u001b[0;34m,\u001b[0m \u001b[0mrequest\u001b[0m\u001b[0;34m\u001b[0m\u001b[0;34m\u001b[0m\u001b[0m\n",
      "\u001b[0;31mModuleNotFoundError\u001b[0m: No module named 'raiwidgets._input_processing'"
     ]
    }
   ],
   "source": [
    "from raiwidgets import FairnessDashboard\n",
    "\n",
    "from fairlearn.reductions import GridSearch\n",
    "from fairlearn.reductions import DemographicParity\n",
    "from fairlearn.metrics import MetricFrame, selection_rate\n",
    "\n",
    "from sklearn import svm, neighbors, tree\n",
    "from sklearn.metrics import accuracy_score\n",
    "from sklearn.preprocessing import LabelEncoder,StandardScaler\n",
    "from sklearn.linear_model import LogisticRegression\n",
    "from sklearn.datasets import fetch_openml\n",
    "\n",
    "import pandas as pd\n",
    "\n",
    "import numpy as np"
   ]
  },
  {
   "cell_type": "markdown",
   "metadata": {},
   "source": [
    "We can now load and inspect the data from `openml`:"
   ]
  },
  {
   "cell_type": "code",
   "execution_count": null,
   "metadata": {},
   "outputs": [],
   "source": [
    "data = fetch_openml(data_id=1590, as_frame=True)\n",
    "X_raw = data.data\n",
    "y_true = (data.target == '>50K') * 1\n",
    "\n",
    "X_raw[\"race\"].value_counts().to_dict()"
   ]
  },
  {
   "cell_type": "markdown",
   "metadata": {},
   "source": [
    "We are going to treat the sex of each individual as a protected attribute (where 0 indicates female and 1 indicates male), and in this particular case we are going separate this attribute out and drop it from the main data. We then perform some standard data preprocessing steps to convert the data into a format suitable for the ML algorithms"
   ]
  },
  {
   "cell_type": "code",
   "execution_count": 2,
   "metadata": {},
   "outputs": [
    {
     "output_type": "error",
     "ename": "NameError",
     "evalue": "name 'X_raw' is not defined",
     "traceback": [
      "\u001b[0;31m---------------------------------------------------------------------------\u001b[0m",
      "\u001b[0;31mNameError\u001b[0m                                 Traceback (most recent call last)",
      "\u001b[0;32m<ipython-input-2-09cb341c9777>\u001b[0m in \u001b[0;36m<module>\u001b[0;34m\u001b[0m\n\u001b[0;32m----> 1\u001b[0;31m \u001b[0msensitive_features\u001b[0m \u001b[0;34m=\u001b[0m \u001b[0mX_raw\u001b[0m\u001b[0;34m[\u001b[0m\u001b[0;34m[\u001b[0m\u001b[0;34m'sex'\u001b[0m\u001b[0;34m,\u001b[0m\u001b[0;34m'race'\u001b[0m\u001b[0;34m]\u001b[0m\u001b[0;34m]\u001b[0m\u001b[0;34m\u001b[0m\u001b[0;34m\u001b[0m\u001b[0m\n\u001b[0m\u001b[1;32m      2\u001b[0m \u001b[0mX\u001b[0m \u001b[0;34m=\u001b[0m \u001b[0mX_raw\u001b[0m\u001b[0;34m.\u001b[0m\u001b[0mdrop\u001b[0m\u001b[0;34m(\u001b[0m\u001b[0mlabels\u001b[0m\u001b[0;34m=\u001b[0m\u001b[0;34m[\u001b[0m\u001b[0;34m'sex'\u001b[0m\u001b[0;34m,\u001b[0m \u001b[0;34m'race'\u001b[0m\u001b[0;34m]\u001b[0m\u001b[0;34m,\u001b[0m\u001b[0maxis\u001b[0m \u001b[0;34m=\u001b[0m \u001b[0;36m1\u001b[0m\u001b[0;34m)\u001b[0m\u001b[0;34m\u001b[0m\u001b[0;34m\u001b[0m\u001b[0m\n\u001b[1;32m      3\u001b[0m \u001b[0mX\u001b[0m \u001b[0;34m=\u001b[0m \u001b[0mpd\u001b[0m\u001b[0;34m.\u001b[0m\u001b[0mget_dummies\u001b[0m\u001b[0;34m(\u001b[0m\u001b[0mX\u001b[0m\u001b[0;34m)\u001b[0m\u001b[0;34m\u001b[0m\u001b[0;34m\u001b[0m\u001b[0m\n\u001b[1;32m      4\u001b[0m \u001b[0;34m\u001b[0m\u001b[0m\n\u001b[1;32m      5\u001b[0m \u001b[0msc\u001b[0m \u001b[0;34m=\u001b[0m \u001b[0mStandardScaler\u001b[0m\u001b[0;34m(\u001b[0m\u001b[0;34m)\u001b[0m\u001b[0;34m\u001b[0m\u001b[0;34m\u001b[0m\u001b[0m\n",
      "\u001b[0;31mNameError\u001b[0m: name 'X_raw' is not defined"
     ]
    }
   ],
   "source": [
    "sensitive_features = X_raw[['sex','race']]\n",
    "X = X_raw.drop(labels=['sex', 'race'],axis = 1)\n",
    "X = pd.get_dummies(X)\n",
    "\n",
    "sc = StandardScaler()\n",
    "X_scaled = sc.fit_transform(X)\n",
    "X_scaled = pd.DataFrame(X_scaled, columns=X.columns)\n",
    "\n",
    "le = LabelEncoder()\n",
    "y_true = le.fit_transform(y_true)"
   ]
  },
  {
   "cell_type": "markdown",
   "metadata": {},
   "source": [
    "Finally, we split the data into training and test sets:"
   ]
  },
  {
   "cell_type": "code",
   "execution_count": 3,
   "metadata": {},
   "outputs": [
    {
     "output_type": "error",
     "ename": "NameError",
     "evalue": "name 'X_scaled' is not defined",
     "traceback": [
      "\u001b[0;31m---------------------------------------------------------------------------\u001b[0m",
      "\u001b[0;31mNameError\u001b[0m                                 Traceback (most recent call last)",
      "\u001b[0;32m<ipython-input-3-479713b55a2b>\u001b[0m in \u001b[0;36m<module>\u001b[0;34m\u001b[0m\n\u001b[1;32m      1\u001b[0m \u001b[0;32mfrom\u001b[0m \u001b[0msklearn\u001b[0m\u001b[0;34m.\u001b[0m\u001b[0mmodel_selection\u001b[0m \u001b[0;32mimport\u001b[0m \u001b[0mtrain_test_split\u001b[0m\u001b[0;34m\u001b[0m\u001b[0;34m\u001b[0m\u001b[0m\n\u001b[1;32m      2\u001b[0m \u001b[0mX_train\u001b[0m\u001b[0;34m,\u001b[0m \u001b[0mX_test\u001b[0m\u001b[0;34m,\u001b[0m \u001b[0my_train\u001b[0m\u001b[0;34m,\u001b[0m \u001b[0my_test\u001b[0m\u001b[0;34m,\u001b[0m \u001b[0msensitive_features_train\u001b[0m\u001b[0;34m,\u001b[0m \u001b[0msensitive_features_test\u001b[0m \u001b[0;34m=\u001b[0m\u001b[0;31m \u001b[0m\u001b[0;31m\\\u001b[0m\u001b[0;34m\u001b[0m\u001b[0;34m\u001b[0m\u001b[0m\n\u001b[0;32m----> 3\u001b[0;31m     train_test_split(X_scaled, y_true, sensitive_features,\n\u001b[0m\u001b[1;32m      4\u001b[0m                      test_size = 0.2, random_state=0, stratify=y_true)\n\u001b[1;32m      5\u001b[0m \u001b[0;34m\u001b[0m\u001b[0m\n",
      "\u001b[0;31mNameError\u001b[0m: name 'X_scaled' is not defined"
     ]
    }
   ],
   "source": [
    "from sklearn.model_selection import train_test_split\n",
    "X_train, X_test, y_train, y_test, sensitive_features_train, sensitive_features_test = \\\n",
    "    train_test_split(X_scaled, y_true, sensitive_features,\n",
    "                     test_size = 0.2, random_state=0, stratify=y_true)\n",
    "\n",
    "# Work around indexing bug\n",
    "X_train = X_train.reset_index(drop=True)\n",
    "sensitive_features_train = sensitive_features_train.reset_index(drop=True)\n",
    "X_test = X_test.reset_index(drop=True)\n",
    "sensitive_features_test = sensitive_features_test.reset_index(drop=True)"
   ]
  },
  {
   "cell_type": "markdown",
   "metadata": {},
   "source": [
    "## Train a fairness-unaware predictor\n",
    "\n",
    "To show the effect of `Fairlearn` we will first train a standard ML predictor that does not incorporate fairness For speed of demonstration, we use a simple logistic regression estimator from `sklearn`:"
   ]
  },
  {
   "cell_type": "code",
   "execution_count": null,
   "metadata": {
    "scrolled": true
   },
   "outputs": [],
   "source": [
    "unmitigated_predictor = LogisticRegression(solver='liblinear', fit_intercept=True)\n",
    "\n",
    "unmitigated_predictor.fit(X_train, y_train)"
   ]
  },
  {
   "cell_type": "markdown",
   "metadata": {},
   "source": [
    "We can load this predictor into the Fairness dashboard, and examine how it is unfair (there is a warning about AzureML since we are not yet integrated with that product):"
   ]
  },
  {
   "cell_type": "code",
   "execution_count": null,
   "metadata": {
    "scrolled": false
   },
   "outputs": [],
   "source": [
    "y_pred = unmitigated_predictor.predict(X_test)\n",
    "\n",
    "FairnessDashboard(sensitive_features=sensitive_features_test,\n",
    "                  y_true=y_test,\n",
    "                  y_pred=y_pred)"
   ]
  },
  {
   "cell_type": "markdown",
   "metadata": {},
   "source": [
    "Looking at the disparity in accuracy, we see that males have an error rate about three times greater than the females. More interesting is the disparity in opportunitiy - males are offered loans at three times the rate of females.\n",
    "\n",
    "Despite the fact that we removed the feature from the training data, our predictor still discriminates based on sex. This demonstrates that simply ignoring a protected attribute when fitting a predictor rarely eliminates unfairness. There will generally be enough other features correlated with the removed attribute to lead to disparate impact."
   ]
  },
  {
   "cell_type": "markdown",
   "metadata": {},
   "source": [
    "## Mitigation with GridSearch\n",
    "\n",
    "The `GridSearch` class in `Fairlearn` implements a simplified version of the exponentiated gradient reduction of [Agarwal et al. 2018](https://arxiv.org/abs/1803.02453). The user supplies a standard ML estimator, which is treated as a blackbox. `GridSearch` works by generating a sequence of relabellings and reweightings, and trains a predictor for each.\n",
    "\n",
    "For this example, we specify demographic parity (on the protected attribute of sex) as the fairness metric. Demographic parity requires that individuals are offered the opportunity (are approved for a loan in this example) independent of membership in the protected class (i.e., females and males should be offered loans at the same rate). We are using this metric for the sake of simplicity; in general, the appropriate fairness metric will not be obvious."
   ]
  },
  {
   "cell_type": "code",
   "execution_count": null,
   "metadata": {},
   "outputs": [],
   "source": [
    "sweep = GridSearch(LogisticRegression(solver='liblinear', fit_intercept=True),\n",
    "                   constraints=DemographicParity(),\n",
    "                   grid_size=70)"
   ]
  },
  {
   "cell_type": "markdown",
   "metadata": {},
   "source": [
    "Our algorithms provide `fit()` and `predict()` methods, so they behave in a similar manner to other ML packages in Python. We do however have to specify two extra arguments to `fit()` - the column of protected attribute labels, and also the number of predictors to generate in our sweep.\n",
    "\n",
    "After `fit()` completes, we extract the full set of predictors from the `GridSearch` object."
   ]
  },
  {
   "cell_type": "code",
   "execution_count": null,
   "metadata": {},
   "outputs": [],
   "source": [
    "sweep.fit(X_train, y_train,\n",
    "          sensitive_features=sensitive_features_train.sex)\n",
    "\n",
    "predictors = sweep.predictors_"
   ]
  },
  {
   "cell_type": "markdown",
   "metadata": {},
   "source": [
    "We could load these predictors into the Fairness dashboard now. However, the plot would be somewhat confusing due to their number. In this case, we are going to remove the predictors which are dominated in the accuracy-disparity space by others from the sweep (note that the disparity will only be calculated for the protected attribute; other potentially protected attributes will not be mitigated). In general, one might not want to do this, since there may be other considerations beyond the strict optimization of accuracy and disparity (of the given protected attribute)."
   ]
  },
  {
   "cell_type": "code",
   "execution_count": null,
   "metadata": {},
   "outputs": [],
   "source": [
    "accuracies, disparities = [], []\n",
    "\n",
    "for predictor in predictors:\n",
    "    accuracy_metric_frame = MetricFrame(accuracy_score, y_train, predictor.predict(X_train), sensitive_features=sensitive_features_train.sex)\n",
    "    selection_rate_metric_frame = MetricFrame(selection_rate, y_train, predictor.predict(X_train), sensitive_features=sensitive_features_train.sex)\n",
    "    accuracies.append(accuracy_metric_frame.overall)\n",
    "    disparities.append(selection_rate_metric_frame.difference())\n",
    "    \n",
    "all_results = pd.DataFrame( {\"predictor\": predictors, \"accuracy\": accuracies, \"disparity\": disparities})\n",
    "\n",
    "all_models_dict = {\"unmitigated\": unmitigated_predictor}\n",
    "dominant_models_dict = {\"unmitigated\": unmitigated_predictor}\n",
    "base_name_format = \"grid_{0}\"\n",
    "row_id = 0\n",
    "for row in all_results.itertuples():\n",
    "    model_name = base_name_format.format(row_id)\n",
    "    all_models_dict[model_name] = row.predictor\n",
    "    accuracy_for_lower_or_eq_disparity = all_results[\"accuracy\"][all_results[\"disparity\"] <= row.disparity]\n",
    "    if row.accuracy >= accuracy_for_lower_or_eq_disparity.max():\n",
    "        dominant_models_dict[model_name] = row.predictor\n",
    "    row_id = row_id + 1"
   ]
  },
  {
   "cell_type": "markdown",
   "metadata": {},
   "source": [
    "We can construct predictions for all the models, and also for the dominant models:"
   ]
  },
  {
   "cell_type": "code",
   "execution_count": null,
   "metadata": {},
   "outputs": [],
   "source": [
    "dashboard_all = {}\n",
    "for name, predictor in all_models_dict.items():\n",
    "    value = predictor.predict(X_test)\n",
    "    dashboard_all[name] = value\n",
    "    \n",
    "dominant_all = {}\n",
    "for name, predictor in dominant_models_dict.items():\n",
    "    dominant_all[name] = predictor.predict(X_test)\n",
    "\n",
    "FairnessDashboard(sensitive_features=sensitive_features_test, \n",
    "                  y_true=y_test.tolist(),\n",
    "                  y_pred=dominant_all)"
   ]
  },
  {
   "cell_type": "markdown",
   "metadata": {},
   "source": [
    "We see a Pareto front forming - the set of predictors which represent optimal tradeoffs between accuracy and disparity in predictions. In the ideal case, we would have a predictor at (1,0) - perfectly accurate and without any unfairness under demographic parity (with respect to the protected attribute \"sex\"). The Pareto front represents the closest we can come to this ideal based on our data and choice of estimator. Note the range of the axes - the disparity axis covers more values than the accuracy, so we can reduce disparity substantially for a small loss in accuracy.\n",
    "\n",
    "By clicking on individual models on the plot, we can inspect their metrics for disparity and accuracy in greater detail. In a real example, we would then pick the model which represented the best trade-off between accuracy and disparity given the relevant business constraints."
   ]
  },
  {
   "cell_type": "code",
   "execution_count": null,
   "metadata": {},
   "outputs": [],
   "source": []
  },
  {
   "cell_type": "code",
   "execution_count": null,
   "metadata": {},
   "outputs": [],
   "source": []
  }
 ],
 "metadata": {
  "kernelspec": {
   "name": "python3",
   "display_name": "Python 3.8.5 64-bit ('responsible-ai-widgets-ySgAgbNB': venv)"
  },
  "language_info": {
   "codemirror_mode": {
    "name": "ipython",
    "version": 3
   },
   "file_extension": ".py",
   "mimetype": "text/x-python",
   "name": "python",
   "nbconvert_exporter": "python",
   "pygments_lexer": "ipython3",
   "version": "3.8.5"
  },
  "interpreter": {
   "hash": "8cf568d77b6dd12b56da1d2698126cc2602b0b64adbe1367fe35e52efadc3fce"
  }
 },
 "nbformat": 4,
 "nbformat_minor": 2
}