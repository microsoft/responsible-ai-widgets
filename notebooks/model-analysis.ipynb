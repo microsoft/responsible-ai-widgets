{
 "cells": [
  {
   "cell_type": "code",
   "execution_count": null,
   "metadata": {},
   "outputs": [],
   "source": [
    "import pandas as pd\n",
    "\n",
    "import shap\n",
    "import sklearn\n",
    "\n",
    "from sklearn.datasets import load_boston\n",
    "from sklearn.model_selection import train_test_split\n",
    "\n",
    "from raiwidgets import ModelAnalysisDashboard\n",
    "from responsibleai import ModelAnalysis"
   ]
  },
  {
   "cell_type": "markdown",
   "metadata": {},
   "source": [
    "### Use boston housing dataset"
   ]
  },
  {
   "cell_type": "code",
   "execution_count": null,
   "metadata": {},
   "outputs": [],
   "source": [
    "boston_dataset = load_boston()\n",
    "target_feature_name = 'TARGET'\n",
    "data = pd.DataFrame(boston_dataset.data, columns=boston_dataset.feature_names)\n",
    "data[target_feature_name] = boston_dataset.target\n",
    "train_data, test_data = train_test_split(data, test_size=0.2, random_state=7)\n",
    "treatment_features = ['AGE']\n",
    "categorical_features = ['CHAS']\n",
    "continuous_features = ['CRIM', 'ZN', 'INDUS', 'NOX', 'RM', 'AGE', 'DIS', 'RAD', 'TAX', 'PTRATIO', 'B', 'LSTAT']"
   ]
  },
  {
   "cell_type": "markdown",
   "metadata": {},
   "source": [
    "### Train a model"
   ]
  },
  {
   "cell_type": "code",
   "execution_count": null,
   "metadata": {},
   "outputs": [],
   "source": [
    "X_train = train_data.drop(columns=[target_feature_name])\n",
    "y_train = train_data[target_feature_name]\n",
    "\n",
    "model = sklearn.ensemble.RandomForestRegressor()\n",
    "model.fit(X_train, y_train)"
   ]
  },
  {
   "cell_type": "markdown",
   "metadata": {},
   "source": [
    "### Compute Responsible AI model and dataset insights"
   ]
  },
  {
   "cell_type": "code",
   "execution_count": null,
   "metadata": {},
   "outputs": [],
   "source": [
    "model_analysis = ModelAnalysis(model, train_data, test_data, target_feature_name, 'regression',\n",
    "                               categorical_features=categorical_features)\n",
    "\n",
    "# Queue Responsible AI insights\n",
    "model_analysis.explainer.add()\n",
    "model_analysis.counterfactual.add(continuous_features, 10, desired_range=(40, 50))\n",
    "model_analysis.error_analysis.add()\n",
    "model_analysis.causal.add(nuisance_model='linear', max_cat_expansion=20, treatment_features=treatment_features)\n",
    "\n",
    "# Compute insights\n",
    "print(\"Computing model analysis...\")\n",
    "model_analysis.compute()\n",
    "print(\"Done\")"
   ]
  },
  {
   "cell_type": "markdown",
   "metadata": {},
   "source": [
    "### Visualize insights in the model analysis dashboard"
   ]
  },
  {
   "cell_type": "code",
   "execution_count": null,
   "metadata": {},
   "outputs": [],
   "source": [
    "ModelAnalysisDashboard(model_analysis)"
   ]
  },
  {
   "cell_type": "code",
   "execution_count": null,
   "metadata": {},
   "outputs": [],
   "source": []
  }
 ],
 "metadata": {
  "kernelspec": {
   "display_name": "rai-develop",
   "language": "python",
   "name": "rai-develop"
  },
  "language_info": {
   "codemirror_mode": {
    "name": "ipython",
    "version": 3
   },
   "file_extension": ".py",
   "mimetype": "text/x-python",
   "name": "python",
   "nbconvert_exporter": "python",
   "pygments_lexer": "ipython3",
   "version": "3.7.10"
  }
 },
 "nbformat": 4,
 "nbformat_minor": 2
}
